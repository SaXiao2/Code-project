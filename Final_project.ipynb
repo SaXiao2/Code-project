{
 "cells": [
  {
   "cell_type": "code",
   "execution_count": 1,
   "metadata": {},
   "outputs": [],
   "source": [
    "import numpy as np\n",
    "import pandas as pd\n",
    "import seaborn as sns\n",
    "import matplotlib.pyplot as plt\n",
    "\n",
    "import ta\n",
    "\n",
    "from sklearn.preprocessing import StandardScaler\n",
    "from sklearn.model_selection import train_test_split\n",
    "from sklearn.model_selection import GridSearchCV, RepeatedStratifiedKFold, StratifiedKFold, cross_val_score\n",
    "from sklearn.metrics import accuracy_score\n",
    "\n",
    "from sklearn.linear_model import LogisticRegression\n",
    "from sklearn.neighbors import KNeighborsClassifier\n",
    "from sklearn.svm import SVC\n",
    "from sklearn.tree import DecisionTreeClassifier\n",
    "from sklearn.ensemble import RandomForestClassifier\n",
    "\n",
    "import tensorflow as tf\n",
    "from tensorflow import keras\n",
    "from tensorflow.keras.models import Sequential\n",
    "from tensorflow.keras import models, layers, activations, initializers\n",
    "from tensorflow.keras.layers import BatchNormalization\n",
    "from tensorflow.keras.utils import to_categorical\n",
    "\n",
    "import warnings\n",
    "warnings.filterwarnings('ignore')\n",
    "sns.set()"
   ]
  },
  {
   "cell_type": "code",
   "execution_count": 2,
   "metadata": {},
   "outputs": [],
   "source": [
    "# Read dow jones data \n",
    "SP500 = pd.read_csv('DJA.csv')\n",
    "print(SP500.shape)\n",
    "SP500.head()\n",
    "\n",
    "# NLP = pd.read_csv(\"/Users/gaojinglun/Desktop/NLP_vaderindex.csv\")\n",
    "# print(NLP.shape)\n",
    "# NLP.head()\n",
    "\n",
    "start = np.where(SP500['Date'] == '2008-08-08')[0][0]\n",
    "end = np.where(SP500['Date'] == '2016-07-01')[0][0]\n",
    "DJA = SP500.iloc[np.arange(start, (end + 1))]\n",
    "DJA['sentiment'] = NLP['sentiment'].values\n",
    "DJA.head()\n",
    "\n",
    "DJA[\"stoch\"] = ta.momentum.StochasticOscillator(SP500[\"High\"],SP500[\"Low\"],SP500[\"Close\"],window=5).stoch()\n",
    "DJA[\"EMA\"] =  ta.trend.EMAIndicator(SP500[\"Close\"],window = 5).ema_indicator()\n",
    "DJA[\"MACD\"] = ta.trend.MACD(SP500[\"Close\"],window_slow = 10, window_fast = 5).macd()\n",
    "DJA[\"SMA\"] = ta.trend.SMAIndicator(SP500[\"Close\"],window = 5).sma_indicator()\n",
    "DJA[\"WMA\"] = ta.trend.WMAIndicator(SP500[\"Close\"],window = 5).wma()\n",
    "DJA[\"ROC\"] = ta.momentum.ROCIndicator(SP500[\"Close\"],window = 5).roc()\n",
    "DJA[\"williams_r\"] = ta.momentum.WilliamsRIndicator(SP500[\"High\"],SP500[\"Low\"],SP500[\"Close\"]).williams_r()\n",
    "DJA[\"ADI\"] = ta.volume.AccDistIndexIndicator(SP500[\"High\"],SP500[\"Low\"],SP500[\"Close\"],SP500[\"Volume\"]).acc_dist_index()\n",
    "DJA[\"MFI\"] = ta.volume.MFIIndicator(SP500[\"High\"],SP500[\"Low\"],SP500[\"Close\"],SP500[\"Volume\"],window = 5).money_flow_index()\n",
    "DJA[\"ATR\"] = ta.volatility.AverageTrueRange(SP500[\"High\"],SP500[\"Low\"],SP500[\"Close\"],window = 5).average_true_range()\n",
    "\n",
    "# # Read interest rate data\n",
    "# DGS1 = pd.read_csv('/Users/gaojinglun/Desktop/DGS1MO.csv')\n",
    "# DGS3 = pd.read_csv('/Users/gaojinglun/Desktop/DGS6MO.csv')\n",
    "# DGS6 = pd.read_csv('/Users/gaojinglun/Desktop/DGS3MO.csv')\n",
    "# DGS12 = pd.read_csv('/Users/gaojinglun/Desktop/DGS1.csv')\n",
    "\n",
    "# def get_interest_rate(data, col):\n",
    "#     date = SP500['Date'].values\n",
    "#     result = np.zeros_like(date)\n",
    "#     for i in range(len(date)):\n",
    "#         for j in range(i, data.shape[0]):\n",
    "#             if date[i] == data['DATE'][j]:\n",
    "#                 result[i] = data[col][j]\n",
    "#                 break\n",
    "#     assert (np.sum(result) == 0) == 0, '0 interest rate'\n",
    "#     return result\n",
    "\n",
    "# def process(x):\n",
    "#     result = np.zeros_like(x)\n",
    "#     for i in range(len(x)):\n",
    "#         if x[i] == '.':\n",
    "#             result[i] = np.nan\n",
    "#         else:\n",
    "#             result[i] = float(x[i])\n",
    "#     return result\n",
    "\n",
    "\n",
    "# DJA['DGS1MO'] = process(get_interest_rate(DGS1, 'DGS1MO')).astype('float')[np.arange(start, (end + 1))]\n",
    "# DJA['DGS6MO'] = process(get_interest_rate(DGS3, 'DGS6MO')).astype('float')[np.arange(start, (end + 1))]\n",
    "# DJA['DGS3MO'] = process(get_interest_rate(DGS6, 'DGS3MO')).astype('float')[np.arange(start, (end + 1))]\n",
    "# DJA['DGS1'] = process(get_interest_rate(DGS12, 'DGS1')).astype('float')[np.arange(start, (end + 1))]\n",
    "\n",
    "# DJA = DJA.dropna()\n",
    "\n",
    "# DJA.head()\n",
    "\n",
    "# DJA.to_csv('/Users/gaojinglun/Desktop/data.csv')"
   ]
  },
  {
   "cell_type": "code",
   "execution_count": 3,
   "metadata": {},
   "outputs": [
    {
     "data": {
      "text/html": [
       "<div>\n",
       "<style scoped>\n",
       "    .dataframe tbody tr th:only-of-type {\n",
       "        vertical-align: middle;\n",
       "    }\n",
       "\n",
       "    .dataframe tbody tr th {\n",
       "        vertical-align: top;\n",
       "    }\n",
       "\n",
       "    .dataframe thead th {\n",
       "        text-align: right;\n",
       "    }\n",
       "</style>\n",
       "<table border=\"1\" class=\"dataframe\">\n",
       "  <thead>\n",
       "    <tr style=\"text-align: right;\">\n",
       "      <th></th>\n",
       "      <th>Date</th>\n",
       "      <th>Open</th>\n",
       "      <th>High</th>\n",
       "      <th>Low</th>\n",
       "      <th>Close</th>\n",
       "      <th>Adj Close</th>\n",
       "      <th>Volume</th>\n",
       "      <th>sentiment</th>\n",
       "      <th>stoch</th>\n",
       "      <th>EMA</th>\n",
       "      <th>...</th>\n",
       "      <th>WMA</th>\n",
       "      <th>ROC</th>\n",
       "      <th>williams_r</th>\n",
       "      <th>ADI</th>\n",
       "      <th>MFI</th>\n",
       "      <th>ATR</th>\n",
       "      <th>DGS1MO</th>\n",
       "      <th>DGS6MO</th>\n",
       "      <th>DGS3MO</th>\n",
       "      <th>DGS1</th>\n",
       "    </tr>\n",
       "  </thead>\n",
       "  <tbody>\n",
       "    <tr>\n",
       "      <th>0</th>\n",
       "      <td>2008-08-08</td>\n",
       "      <td>11432.089844</td>\n",
       "      <td>11759.959961</td>\n",
       "      <td>11388.040039</td>\n",
       "      <td>11734.320312</td>\n",
       "      <td>11734.320312</td>\n",
       "      <td>212830000</td>\n",
       "      <td>-0.9982</td>\n",
       "      <td>95.238069</td>\n",
       "      <td>11567.876040</td>\n",
       "      <td>...</td>\n",
       "      <td>11592.081380</td>\n",
       "      <td>3.602229</td>\n",
       "      <td>-4.038821</td>\n",
       "      <td>6.788868e+09</td>\n",
       "      <td>61.436462</td>\n",
       "      <td>247.593115</td>\n",
       "      <td>1.63</td>\n",
       "      <td>1.95</td>\n",
       "      <td>1.70</td>\n",
       "      <td>2.19</td>\n",
       "    </tr>\n",
       "    <tr>\n",
       "      <th>1</th>\n",
       "      <td>2008-08-11</td>\n",
       "      <td>11729.669922</td>\n",
       "      <td>11867.110352</td>\n",
       "      <td>11675.530273</td>\n",
       "      <td>11782.349609</td>\n",
       "      <td>11782.349609</td>\n",
       "      <td>183190000</td>\n",
       "      <td>-0.9858</td>\n",
       "      <td>85.413512</td>\n",
       "      <td>11639.367230</td>\n",
       "      <td>...</td>\n",
       "      <td>11671.415234</td>\n",
       "      <td>4.415035</td>\n",
       "      <td>-11.423581</td>\n",
       "      <td>6.809961e+09</td>\n",
       "      <td>78.118740</td>\n",
       "      <td>236.390508</td>\n",
       "      <td>1.77</td>\n",
       "      <td>2.05</td>\n",
       "      <td>1.87</td>\n",
       "      <td>2.27</td>\n",
       "    </tr>\n",
       "    <tr>\n",
       "      <th>2</th>\n",
       "      <td>2008-08-12</td>\n",
       "      <td>11781.700195</td>\n",
       "      <td>11782.349609</td>\n",
       "      <td>11601.519531</td>\n",
       "      <td>11642.469727</td>\n",
       "      <td>11642.469727</td>\n",
       "      <td>173590000</td>\n",
       "      <td>-0.9715</td>\n",
       "      <td>53.109049</td>\n",
       "      <td>11640.401395</td>\n",
       "      <td>...</td>\n",
       "      <td>11670.909180</td>\n",
       "      <td>0.229862</td>\n",
       "      <td>-30.275814</td>\n",
       "      <td>6.714992e+09</td>\n",
       "      <td>59.026974</td>\n",
       "      <td>225.278422</td>\n",
       "      <td>1.73</td>\n",
       "      <td>2.05</td>\n",
       "      <td>1.86</td>\n",
       "      <td>2.18</td>\n",
       "    </tr>\n",
       "    <tr>\n",
       "      <th>3</th>\n",
       "      <td>2008-08-13</td>\n",
       "      <td>11632.809570</td>\n",
       "      <td>11633.780273</td>\n",
       "      <td>11453.339844</td>\n",
       "      <td>11532.959961</td>\n",
       "      <td>11532.959961</td>\n",
       "      <td>182550000</td>\n",
       "      <td>-0.9809</td>\n",
       "      <td>30.250241</td>\n",
       "      <td>11604.587584</td>\n",
       "      <td>...</td>\n",
       "      <td>11632.119857</td>\n",
       "      <td>-1.056191</td>\n",
       "      <td>-45.034931</td>\n",
       "      <td>6.693544e+09</td>\n",
       "      <td>40.608187</td>\n",
       "      <td>218.048714</td>\n",
       "      <td>1.80</td>\n",
       "      <td>2.00</td>\n",
       "      <td>1.85</td>\n",
       "      <td>2.19</td>\n",
       "    </tr>\n",
       "    <tr>\n",
       "      <th>4</th>\n",
       "      <td>2008-08-14</td>\n",
       "      <td>11532.070312</td>\n",
       "      <td>11718.280273</td>\n",
       "      <td>11450.889648</td>\n",
       "      <td>11615.929688</td>\n",
       "      <td>11615.929688</td>\n",
       "      <td>159790000</td>\n",
       "      <td>-0.9882</td>\n",
       "      <td>47.569144</td>\n",
       "      <td>11608.368285</td>\n",
       "      <td>...</td>\n",
       "      <td>11629.194466</td>\n",
       "      <td>1.613971</td>\n",
       "      <td>-33.852733</td>\n",
       "      <td>6.731006e+09</td>\n",
       "      <td>61.071556</td>\n",
       "      <td>227.917096</td>\n",
       "      <td>1.76</td>\n",
       "      <td>2.00</td>\n",
       "      <td>1.89</td>\n",
       "      <td>2.14</td>\n",
       "    </tr>\n",
       "  </tbody>\n",
       "</table>\n",
       "<p>5 rows × 22 columns</p>\n",
       "</div>"
      ],
      "text/plain": [
       "         Date          Open          High           Low         Close  \\\n",
       "0  2008-08-08  11432.089844  11759.959961  11388.040039  11734.320312   \n",
       "1  2008-08-11  11729.669922  11867.110352  11675.530273  11782.349609   \n",
       "2  2008-08-12  11781.700195  11782.349609  11601.519531  11642.469727   \n",
       "3  2008-08-13  11632.809570  11633.780273  11453.339844  11532.959961   \n",
       "4  2008-08-14  11532.070312  11718.280273  11450.889648  11615.929688   \n",
       "\n",
       "      Adj Close     Volume  sentiment      stoch           EMA  ...  \\\n",
       "0  11734.320312  212830000    -0.9982  95.238069  11567.876040  ...   \n",
       "1  11782.349609  183190000    -0.9858  85.413512  11639.367230  ...   \n",
       "2  11642.469727  173590000    -0.9715  53.109049  11640.401395  ...   \n",
       "3  11532.959961  182550000    -0.9809  30.250241  11604.587584  ...   \n",
       "4  11615.929688  159790000    -0.9882  47.569144  11608.368285  ...   \n",
       "\n",
       "            WMA       ROC  williams_r           ADI        MFI         ATR  \\\n",
       "0  11592.081380  3.602229   -4.038821  6.788868e+09  61.436462  247.593115   \n",
       "1  11671.415234  4.415035  -11.423581  6.809961e+09  78.118740  236.390508   \n",
       "2  11670.909180  0.229862  -30.275814  6.714992e+09  59.026974  225.278422   \n",
       "3  11632.119857 -1.056191  -45.034931  6.693544e+09  40.608187  218.048714   \n",
       "4  11629.194466  1.613971  -33.852733  6.731006e+09  61.071556  227.917096   \n",
       "\n",
       "   DGS1MO  DGS6MO  DGS3MO  DGS1  \n",
       "0    1.63    1.95    1.70  2.19  \n",
       "1    1.77    2.05    1.87  2.27  \n",
       "2    1.73    2.05    1.86  2.18  \n",
       "3    1.80    2.00    1.85  2.19  \n",
       "4    1.76    2.00    1.89  2.14  \n",
       "\n",
       "[5 rows x 22 columns]"
      ]
     },
     "execution_count": 3,
     "metadata": {},
     "output_type": "execute_result"
    }
   ],
   "source": [
    "DJA = pd.read_csv('data.csv')\n",
    "DJA = DJA.drop(['Unnamed: 0'], axis = 1)\n",
    "DJA.head()"
   ]
  },
  {
   "cell_type": "code",
   "execution_count": 4,
   "metadata": {},
   "outputs": [
    {
     "data": {
      "image/png": "[encoded data removed]",
      "text/plain": [
       "<Figure size 432x288 with 1 Axes>"
      ]
     },
     "metadata": {},
     "output_type": "display_data"
    }
   ],
   "source": [
    "\n",
    "movement_percentage = ((DJA['Adj Close'].shift(-1) / DJA['Adj Close']) -1) * 100\n",
    "plt.hist(movement_percentage, bins = 100)\n",
    "plt.title(\"Histogram of stock movement\")\n",
    "plt.show()"
   ]
  },
  {
   "cell_type": "code",
   "execution_count": 5,
   "metadata": {},
   "outputs": [
    {
     "data": {
      "text/plain": [
       "(0, 1973)"
      ]
     },
     "execution_count": 5,
     "metadata": {},
     "output_type": "execute_result"
    }
   ],
   "source": [
    "threshold = 0\n",
    "neutral_idx = np.abs(movement_percentage) < threshold\n",
    "np.sum(neutral_idx), DJA.shape[0]"
   ]
  },
  {
   "cell_type": "code",
   "execution_count": 6,
   "metadata": {},
   "outputs": [
    {
     "data": {
      "text/plain": [
       "1"
      ]
     },
     "execution_count": 6,
     "metadata": {},
     "output_type": "execute_result"
    }
   ],
   "source": [
    "label = np.zeros(DJA.shape[0])\n",
    "label[neutral_idx] = 0\n",
    "label[movement_percentage >= threshold] = 1\n",
    "label[movement_percentage <= -threshold] = -1\n",
    "np.sum(label == 0)"
   ]
  },
  {
   "cell_type": "code",
   "execution_count": 7,
   "metadata": {},
   "outputs": [
    {
     "data": {
      "text/plain": [
       "array([   1,    2,    3, ..., 1970, 1971, 1972])"
      ]
     },
     "execution_count": 7,
     "metadata": {},
     "output_type": "execute_result"
    }
   ],
   "source": [
    "DJA['Stock Movement'] = label\n",
    "DJA['Previous Stock Movement'] = DJA['Stock Movement'].shift(1)\n",
    "DJA = DJA.dropna()\n",
    "DJA.index.values"
   ]
  },
  {
   "cell_type": "code",
   "execution_count": 8,
   "metadata": {},
   "outputs": [
    {
     "data": {
      "text/plain": [
       "(1971, 24)"
      ]
     },
     "execution_count": 8,
     "metadata": {},
     "output_type": "execute_result"
    }
   ],
   "source": [
    "new_data = DJA.iloc[np.arange(0, DJA.shape[0] - 1)]\n",
    "new_data.shape"
   ]
  },
  {
   "cell_type": "code",
   "execution_count": 10,
   "metadata": {},
   "outputs": [
    {
     "data": {
      "image/png": "[encoded data removed]",
      "text/plain": [
       "<Figure size 576x288 with 1 Axes>"
      ]
     },
     "metadata": {},
     "output_type": "display_data"
    }
   ],
   "source": [
    "# bar plot of the Stock Movement's value counts\n",
    "value_counts = new_data['Stock Movement'].value_counts()\n",
    "class_counts = pd.DataFrame({'Class': list(value_counts.index), 'value_count': value_counts})\n",
    "\n",
    "plt.figure(figsize = (8,4))\n",
    "g = sns.barplot(x = 'Class', y = 'value_count', data = class_counts, capsize = 0.3, palette = 'spring')\n",
    "g.set_title(\"Frequency of Stock Movement\", fontsize = 15)\n",
    "g.set_xlabel(\"Movement\", fontsize = 13)\n",
    "g.set_ylabel(\"Frequency\", fontsize = 13)\n",
    "g.set_yticks([200, 400, 600, 800, 1000, 1200])\n",
    "for p in g.patches:\n",
    "    g.annotate(np.round(p.get_height(),decimals=2), \n",
    "                (p.get_x()+p.get_width()/2., p.get_height()), \n",
    "                ha = 'center', va = 'center', xytext=(0, 10), \n",
    "                textcoords='offset points', fontsize=14, color='black')"
   ]
  },
  {
   "cell_type": "code",
   "execution_count": 11,
   "metadata": {},
   "outputs": [],
   "source": [
    "X = new_data.drop(['Open', 'High', 'Low', 'Close', 'Adj Close', 'Volume', 'Stock Movement', 'Date'], axis = 1)"
   ]
  },
  {
   "cell_type": "code",
   "execution_count": 12,
   "metadata": {},
   "outputs": [
    {
     "data": {
      "text/plain": [
       "((1478, 16), (493, 16), (1478,), (493,))"
      ]
     },
     "execution_count": 12,
     "metadata": {},
     "output_type": "execute_result"
    }
   ],
   "source": [
    "# split in a stratified fashion\n",
    "X_train, X_test, y_train, y_test = train_test_split(X, new_data['Stock Movement'], test_size = 0.25, \n",
    "                                                    stratify = new_data['Stock Movement'], random_state = 123)\n",
    "X_train.shape, X_test.shape, y_train.shape, y_test.shape"
   ]
  },
  {
   "cell_type": "code",
   "execution_count": 13,
   "metadata": {},
   "outputs": [
    {
     "data": {
      "text/html": [
       "<div>\n",
       "<style scoped>\n",
       "    .dataframe tbody tr th:only-of-type {\n",
       "        vertical-align: middle;\n",
       "    }\n",
       "\n",
       "    .dataframe tbody tr th {\n",
       "        vertical-align: top;\n",
       "    }\n",
       "\n",
       "    .dataframe thead th {\n",
       "        text-align: right;\n",
       "    }\n",
       "</style>\n",
       "<table border=\"1\" class=\"dataframe\">\n",
       "  <thead>\n",
       "    <tr style=\"text-align: right;\">\n",
       "      <th></th>\n",
       "      <th>sentiment</th>\n",
       "      <th>stoch</th>\n",
       "      <th>EMA</th>\n",
       "      <th>MACD</th>\n",
       "      <th>SMA</th>\n",
       "      <th>WMA</th>\n",
       "      <th>ROC</th>\n",
       "      <th>williams_r</th>\n",
       "      <th>ADI</th>\n",
       "      <th>MFI</th>\n",
       "      <th>ATR</th>\n",
       "      <th>DGS1MO</th>\n",
       "      <th>DGS6MO</th>\n",
       "      <th>DGS3MO</th>\n",
       "      <th>DGS1</th>\n",
       "      <th>Previous Stock Movement</th>\n",
       "    </tr>\n",
       "  </thead>\n",
       "  <tbody>\n",
       "    <tr>\n",
       "      <th>187</th>\n",
       "      <td>-0.9779</td>\n",
       "      <td>26.473353</td>\n",
       "      <td>8436.507487</td>\n",
       "      <td>88.082174</td>\n",
       "      <td>8465.240039</td>\n",
       "      <td>8470.480599</td>\n",
       "      <td>-0.094588</td>\n",
       "      <td>-21.546239</td>\n",
       "      <td>6.814898e+09</td>\n",
       "      <td>59.671099</td>\n",
       "      <td>167.991018</td>\n",
       "      <td>0.16</td>\n",
       "      <td>0.30</td>\n",
       "      <td>0.19</td>\n",
       "      <td>0.53</td>\n",
       "      <td>-1.0</td>\n",
       "    </tr>\n",
       "    <tr>\n",
       "      <th>240</th>\n",
       "      <td>-0.9943</td>\n",
       "      <td>95.229365</td>\n",
       "      <td>9006.538345</td>\n",
       "      <td>148.736180</td>\n",
       "      <td>9013.648047</td>\n",
       "      <td>9053.455990</td>\n",
       "      <td>2.942529</td>\n",
       "      <td>-1.437027</td>\n",
       "      <td>8.231974e+09</td>\n",
       "      <td>100.000000</td>\n",
       "      <td>125.129418</td>\n",
       "      <td>0.15</td>\n",
       "      <td>0.27</td>\n",
       "      <td>0.19</td>\n",
       "      <td>0.49</td>\n",
       "      <td>1.0</td>\n",
       "    </tr>\n",
       "    <tr>\n",
       "      <th>304</th>\n",
       "      <td>-0.9979</td>\n",
       "      <td>15.704592</td>\n",
       "      <td>9934.327902</td>\n",
       "      <td>-5.134759</td>\n",
       "      <td>9950.595898</td>\n",
       "      <td>9927.413867</td>\n",
       "      <td>-1.586524</td>\n",
       "      <td>-60.628554</td>\n",
       "      <td>1.031988e+10</td>\n",
       "      <td>18.007084</td>\n",
       "      <td>150.880182</td>\n",
       "      <td>0.05</td>\n",
       "      <td>0.17</td>\n",
       "      <td>0.08</td>\n",
       "      <td>0.39</td>\n",
       "      <td>1.0</td>\n",
       "    </tr>\n",
       "    <tr>\n",
       "      <th>1495</th>\n",
       "      <td>-0.9913</td>\n",
       "      <td>9.752915</td>\n",
       "      <td>16586.000259</td>\n",
       "      <td>-133.984865</td>\n",
       "      <td>16587.155859</td>\n",
       "      <td>16527.435937</td>\n",
       "      <td>-2.853805</td>\n",
       "      <td>-92.337586</td>\n",
       "      <td>3.145682e+10</td>\n",
       "      <td>18.197341</td>\n",
       "      <td>168.375618</td>\n",
       "      <td>0.03</td>\n",
       "      <td>0.05</td>\n",
       "      <td>0.03</td>\n",
       "      <td>0.12</td>\n",
       "      <td>-1.0</td>\n",
       "    </tr>\n",
       "    <tr>\n",
       "      <th>1416</th>\n",
       "      <td>-0.9854</td>\n",
       "      <td>2.592949</td>\n",
       "      <td>16215.115085</td>\n",
       "      <td>-70.411348</td>\n",
       "      <td>16227.231836</td>\n",
       "      <td>16192.287826</td>\n",
       "      <td>-2.351598</td>\n",
       "      <td>-98.145466</td>\n",
       "      <td>2.980641e+10</td>\n",
       "      <td>17.133754</td>\n",
       "      <td>177.097609</td>\n",
       "      <td>0.04</td>\n",
       "      <td>0.06</td>\n",
       "      <td>0.04</td>\n",
       "      <td>0.09</td>\n",
       "      <td>-1.0</td>\n",
       "    </tr>\n",
       "  </tbody>\n",
       "</table>\n",
       "</div>"
      ],
      "text/plain": [
       "      sentiment      stoch           EMA        MACD           SMA  \\\n",
       "187     -0.9779  26.473353   8436.507487   88.082174   8465.240039   \n",
       "240     -0.9943  95.229365   9006.538345  148.736180   9013.648047   \n",
       "304     -0.9979  15.704592   9934.327902   -5.134759   9950.595898   \n",
       "1495    -0.9913   9.752915  16586.000259 -133.984865  16587.155859   \n",
       "1416    -0.9854   2.592949  16215.115085  -70.411348  16227.231836   \n",
       "\n",
       "               WMA       ROC  williams_r           ADI         MFI  \\\n",
       "187    8470.480599 -0.094588  -21.546239  6.814898e+09   59.671099   \n",
       "240    9053.455990  2.942529   -1.437027  8.231974e+09  100.000000   \n",
       "304    9927.413867 -1.586524  -60.628554  1.031988e+10   18.007084   \n",
       "1495  16527.435937 -2.853805  -92.337586  3.145682e+10   18.197341   \n",
       "1416  16192.287826 -2.351598  -98.145466  2.980641e+10   17.133754   \n",
       "\n",
       "             ATR  DGS1MO  DGS6MO  DGS3MO  DGS1  Previous Stock Movement  \n",
       "187   167.991018    0.16    0.30    0.19  0.53                     -1.0  \n",
       "240   125.129418    0.15    0.27    0.19  0.49                      1.0  \n",
       "304   150.880182    0.05    0.17    0.08  0.39                      1.0  \n",
       "1495  168.375618    0.03    0.05    0.03  0.12                     -1.0  \n",
       "1416  177.097609    0.04    0.06    0.04  0.09                     -1.0  "
      ]
     },
     "execution_count": 13,
     "metadata": {},
     "output_type": "execute_result"
    }
   ],
   "source": [
    "X_train.head()"
   ]
  },
  {
   "cell_type": "code",
   "execution_count": 14,
   "metadata": {},
   "outputs": [],
   "source": [
    "scalerX = StandardScaler().fit(X_train)\n",
    "X_train = pd.DataFrame(scalerX.transform(X_train), columns = X.columns.values) \n",
    "X_test = pd.DataFrame(scalerX.transform(X_test), columns = X.columns.values) "
   ]
  },
  {
   "cell_type": "code",
   "execution_count": 15,
   "metadata": {},
   "outputs": [
    {
     "name": "stdout",
     "output_type": "stream",
     "text": [
      "The accuracy score of 3-fold cross validation for logreg is 0.528 +/- 0.013\n",
      "The test accuracy score for logreg is 0.527\n",
      "----------------------------------------------------------------------\n",
      "The accuracy score of 3-fold cross validation for Knn is 0.514 +/- 0.009\n",
      "The test accuracy score for Knn is 0.485\n",
      "----------------------------------------------------------------------\n",
      "The accuracy score of 3-fold cross validation for decision tree is 0.539 +/- 0.017\n",
      "The test accuracy score for decision tree is 0.519\n",
      "----------------------------------------------------------------------\n",
      "The accuracy score of 3-fold cross validation for SVC is 0.54 +/- 0.005\n",
      "The test accuracy score for SVC is 0.533\n",
      "----------------------------------------------------------------------\n"
     ]
    }
   ],
   "source": [
    "# fit four basic classifier models\n",
    "basic_classifier = ['logreg', 'Knn', 'decision tree', 'SVC']\n",
    "estimator = [LogisticRegression(random_state = 123),\n",
    "             KNeighborsClassifier(),\n",
    "             DecisionTreeClassifier(random_state = 123),\n",
    "             SVC(random_state = 123)]\n",
    "for i in range(4):\n",
    "    cv_score = cross_val_score(estimator[i], X_train, y_train, cv = 3)\n",
    "    print('The accuracy score of 3-fold cross validation for {} is {} +/- {}'.format(basic_classifier[i],\n",
    "                                                                                   np.round(np.mean(cv_score), 3),\n",
    "                                                                                   np.round(np.std(cv_score), 3)))\n",
    "    clf = estimator[i]\n",
    "    clf.fit(X_train, y_train)\n",
    "    print('The test accuracy score for {} is {}'.format(basic_classifier[i],\n",
    "                                                         np.round(clf.score(X_test, y_test), 3)))\n",
    "    print('----------------------------------------------------------------------')   "
   ]
  },
  {
   "cell_type": "markdown",
   "metadata": {},
   "source": [
    "### Logistics Reg"
   ]
  },
  {
   "cell_type": "code",
   "execution_count": 16,
   "metadata": {},
   "outputs": [],
   "source": [
    "# Hyperparameters tuning for logistic regression \n",
    "# Try four different penalties for logiticregression 'l1’, ‘l2’, ‘elasticnet’, and ‘none\n",
    "logit = LogisticRegression(random_state = 123)\n",
    "solvers = ['newton-cg', 'lbfgs', 'liblinear']\n",
    "penalty = ['l1', 'l2', 'elasticnet', 'none']\n",
    "c_values = [100, 10, 1.0, 0.1, 0.01]\n",
    "grid = dict(solver = solvers, penalty = penalty, C = c_values)\n",
    "grid_search = GridSearchCV(estimator = logit, param_grid = grid, n_jobs = -1,\n",
    "                           cv = 3, scoring = 'accuracy', error_score = 0)\n",
    "logit_cv = grid_search.fit(X_train, y_train)"
   ]
  },
  {
   "cell_type": "code",
   "execution_count": 17,
   "metadata": {},
   "outputs": [
    {
     "name": "stdout",
     "output_type": "stream",
     "text": [
      "The best training accuracy score using cv is 0.5433\n"
     ]
    }
   ],
   "source": [
    "print('The best training accuracy score using cv is {}'.format(np.round(logit_cv.best_score_, 4)))"
   ]
  },
  {
   "cell_type": "code",
   "execution_count": 18,
   "metadata": {},
   "outputs": [
    {
     "name": "stdout",
     "output_type": "stream",
     "text": [
      "The best parameters using cv is {'C': 0.01, 'penalty': 'l2', 'solver': 'liblinear'}\n"
     ]
    }
   ],
   "source": [
    "print('The best parameters using cv is {}'.format(logit_cv.best_params_))"
   ]
  },
  {
   "cell_type": "code",
   "execution_count": 30,
   "metadata": {},
   "outputs": [
    {
     "data": {
      "text/plain": [
       "array([[ 39, 189],\n",
       "       [ 39, 226]])"
      ]
     },
     "execution_count": 30,
     "metadata": {},
     "output_type": "execute_result"
    }
   ],
   "source": [
    "from sklearn.metrics import confusion_matrix\n",
    "confusion_matrix(y_test, logit_cv.best_estimator_.predict(X_test))"
   ]
  },
  {
   "cell_type": "markdown",
   "metadata": {},
   "source": [
    "### SVM"
   ]
  },
  {
   "cell_type": "code",
   "execution_count": 19,
   "metadata": {},
   "outputs": [
    {
     "data": {
      "text/plain": [
       "GridSearchCV(cv=3, estimator=SVC(), n_jobs=-1,\n",
       "             param_grid={'C': [0.1, 0.2, 0.5, 1, 2, 5, 10],\n",
       "                         'class_weight': ['balanced', None],\n",
       "                         'kernel': ['linear', 'poly', 'rbf']},\n",
       "             scoring='accuracy')"
      ]
     },
     "execution_count": 19,
     "metadata": {},
     "output_type": "execute_result"
    }
   ],
   "source": [
    "# Using grid search cross validation to select the best alpha\n",
    "SVM_para = {'kernel':['linear', 'poly', 'rbf'], \n",
    "            'C':[0.1, 0.2, 0.5, 1, 2, 5, 10],\n",
    "            'class_weight':['balanced', None]}\n",
    "SVM = SVC()\n",
    "SVM_cv = GridSearchCV(SVM, SVM_para, scoring = 'accuracy', cv = 3, n_jobs = -1)\n",
    "SVM_cv.fit(X_train, y_train)"
   ]
  },
  {
   "cell_type": "code",
   "execution_count": 20,
   "metadata": {},
   "outputs": [
    {
     "name": "stdout",
     "output_type": "stream",
     "text": [
      "The best training accuracy score using cv is 0.5487\n"
     ]
    }
   ],
   "source": [
    "print('The best training accuracy score using cv is {}'.format(np.round(SVM_cv.best_score_, 4)))"
   ]
  },
  {
   "cell_type": "code",
   "execution_count": 21,
   "metadata": {},
   "outputs": [
    {
     "name": "stdout",
     "output_type": "stream",
     "text": [
      "The best parameters using cv is {'C': 0.5, 'class_weight': None, 'kernel': 'poly'}\n"
     ]
    }
   ],
   "source": [
    "print('The best parameters using cv is {}'.format(SVM_cv.best_params_))"
   ]
  },
  {
   "cell_type": "markdown",
   "metadata": {},
   "source": [
    "### Random Forest "
   ]
  },
  {
   "cell_type": "code",
   "execution_count": 26,
   "metadata": {},
   "outputs": [
    {
     "name": "stdout",
     "output_type": "stream",
     "text": [
      "The max depth for a single decision tree is 16\n"
     ]
    }
   ],
   "source": [
    "single_tree = DecisionTreeClassifier(random_state = 123).fit(X_train, y_train)\n",
    "print(\"The max depth for a single decision tree is\", single_tree.max_features_)"
   ]
  },
  {
   "cell_type": "code",
   "execution_count": 27,
   "metadata": {},
   "outputs": [],
   "source": [
    "# Hyperparameters tuning for RF\n",
    "skf = StratifiedKFold(n_splits = 3, shuffle = True, random_state = 123)\n",
    "rf = RandomForestClassifier(random_state = 123)\n",
    "ne = [100, 300, 500]\n",
    "depth = np.arange(10, 16, 2)\n",
    "split = [2, 3, 4]\n",
    "leaf = [1, 3, 5]\n",
    "feature = [\"auto\", \"log2\", 'None']\n",
    "\n",
    "# define grid search\n",
    "grid = dict(n_estimators = ne, max_depth = depth, min_samples_split = split, \n",
    "            min_samples_leaf = leaf, max_features = feature)\n",
    "\n",
    "grid_search = GridSearchCV(estimator = rf, \n",
    "                           param_grid = grid, \n",
    "                           n_jobs = -1, \n",
    "                           cv = skf, \n",
    "                           scoring = 'accuracy', \n",
    "                           error_score = 0)\n",
    "rf_cv = grid_search.fit(X_train, y_train)"
   ]
  },
  {
   "cell_type": "code",
   "execution_count": 28,
   "metadata": {},
   "outputs": [
    {
     "name": "stdout",
     "output_type": "stream",
     "text": [
      "The test accuracy score is 0.521\n"
     ]
    }
   ],
   "source": [
    "rf = rf_cv.best_estimator_\n",
    "rf_test = np.round(rf.score(X_test, y_test), 3)\n",
    "print('The test accuracy score is', rf_test)"
   ]
  },
  {
   "cell_type": "code",
   "execution_count": 29,
   "metadata": {},
   "outputs": [
    {
     "data": {
      "image/png": "[encoded data removed]",
      "text/plain": [
       "<Figure size 576x432 with 1 Axes>"
      ]
     },
     "metadata": {},
     "output_type": "display_data"
    }
   ],
   "source": [
    "plt.figure(figsize = (8,6))\n",
    "\n",
    "# Create a pd.Series of features importances\n",
    "importances = pd.Series(data = rf.feature_importances_,\n",
    "                        index = X_train.columns)\n",
    "\n",
    "# Sort importances\n",
    "importances_sorted = importances.sort_values()\n",
    "\n",
    "# Draw a horizontal barplot of importances_sorted\n",
    "importances_sorted.plot(kind = 'barh', color = 'lightgreen')\n",
    "plt.title('Features Importances')\n",
    "plt.show()\n"
   ]
  },
  {
   "cell_type": "markdown",
   "metadata": {},
   "source": [
    "### Gradient Boosting Tree"
   ]
  },
  {
   "cell_type": "code",
   "execution_count": null,
   "metadata": {},
   "outputs": [],
   "source": [
    "# Hyperparameters tuning for RF\n",
    "skf = StratifiedKFold(n_splits = 3, shuffle = True, random_state = 123)\n",
    "rf = GradientBoostingClassifier(random_state = 123)\n",
    "ne = [100, 300, 500]\n",
    "depth = np.arange(10, 16, 2)\n",
    "split = [2, 3, 4]\n",
    "leaf = [1, 3, 5]\n",
    "feature = [\"auto\", \"log2\", 'None']\n",
    "\n",
    "# define grid search\n",
    "grid = dict(n_estimators = ne, max_depth = depth, min_samples_split = split, \n",
    "            min_samples_leaf = leaf, max_features = feature)\n",
    "\n",
    "grid_search = GridSearchCV(estimator = rf, \n",
    "                           param_grid = grid, \n",
    "                           n_jobs = -1, \n",
    "                           cv = skf, \n",
    "                           scoring = 'accuracy', \n",
    "                           error_score = 0)\n",
    "rf_cv = grid_search.fit(X_train, y_train)"
   ]
  },
  {
   "cell_type": "code",
   "execution_count": null,
   "metadata": {},
   "outputs": [],
   "source": [
    "rf = rf_cv.best_estimator_\n",
    "rf_test = np.round(rf.score(X_test, y_test), 3)\n",
    "print('The test accuracy score is', rf_test)"
   ]
  },
  {
   "cell_type": "code",
   "execution_count": null,
   "metadata": {},
   "outputs": [],
   "source": [
    "plt.figure(figsize = (8,6))\n",
    "\n",
    "# Create a pd.Series of features importances\n",
    "importances = pd.Series(data = rf.feature_importances_,\n",
    "                        index = X_train.columns)\n",
    "\n",
    "# Sort importances\n",
    "importances_sorted = importances.sort_values()\n",
    "\n",
    "# Draw a horizontal barplot of importances_sorted\n",
    "importances_sorted.plot(kind = 'barh', color = 'lightgreen')\n",
    "plt.title('Features Importances')\n",
    "plt.show()\n"
   ]
  },
  {
   "cell_type": "markdown",
   "metadata": {},
   "source": [
    "### ANN"
   ]
  },
  {
   "cell_type": "code",
   "execution_count": 24,
   "metadata": {},
   "outputs": [],
   "source": [
    "X_train_new = X_train.astype('float32')\n",
    "X_test_new = X_test.astype('float32')\n",
    "y_train_new = to_categorical(y_train, 3)\n",
    "y_test_new = to_categorical(y_test, 3)"
   ]
  },
  {
   "cell_type": "code",
   "execution_count": 25,
   "metadata": {},
   "outputs": [
    {
     "name": "stdout",
     "output_type": "stream",
     "text": [
      "When the learning rate is 0.01\n",
      "47/47 [==============================] - 0s 822us/step - loss: 0.6891 - accuracy: 0.5440\n",
      "16/16 [==============================] - 0s 703us/step - loss: 0.6968 - accuracy: 0.5355\n",
      "-------------------------------------------------------------------\n",
      "When the learning rate is 0.001\n",
      "47/47 [==============================] - 0s 738us/step - loss: 0.6896 - accuracy: 0.5386\n",
      "16/16 [==============================] - 0s 769us/step - loss: 0.6904 - accuracy: 0.5396\n",
      "-------------------------------------------------------------------\n",
      "When the learning rate is 0.0001\n",
      "47/47 [==============================] - 0s 675us/step - loss: 0.9479 - accuracy: 0.5332\n",
      "16/16 [==============================] - 0s 745us/step - loss: 0.9550 - accuracy: 0.4990\n",
      "-------------------------------------------------------------------\n"
     ]
    }
   ],
   "source": [
    "learning_rate = [1e-2, 1e-3, 1e-4]\n",
    "History = []\n",
    "times = []\n",
    "earlyStop = tf.keras.callbacks.EarlyStopping(monitor = 'loss', patience = 3)\n",
    "for lr in learning_rate:\n",
    "    model = models.Sequential()\n",
    "    # Input layer\n",
    "    model.add(\n",
    "        layers.Dense(\n",
    "            units = 16,\n",
    "            activation = \"elu\", input_shape = (X_train_new.shape[1],)\n",
    "        )\n",
    "    )\n",
    "    \n",
    "    numLayers = 3\n",
    "    for i in range(numLayers):\n",
    "        model.add(BatchNormalization())\n",
    "        model.add(layers.Dense(units = 100, \n",
    "                               kernel_initializer = initializers.RandomNormal(seed = 123),\n",
    "                               bias_initializer = initializers.Zeros()))\n",
    "        model.add(layers.Activation(activations.elu))\n",
    "        model.add(layers.Dropout(0.5))\n",
    "    \n",
    "    model.add(BatchNormalization())\n",
    "    model.add(layers.Dense(units = 25, \n",
    "                           kernel_initializer = initializers.RandomNormal(seed = 123),\n",
    "                           bias_initializer = initializers.Zeros()))\n",
    "    model.add(layers.Activation(activations.elu))\n",
    "    model.add(layers.Dropout(0.5))\n",
    "\n",
    "    # Output layer\n",
    "    model.add(layers.Dense(units = 3, activation = \"softmax\"))\n",
    "\n",
    "    model.compile(\n",
    "        optimizer = keras.optimizers.Adam(learning_rate = lr), \n",
    "        loss = \"categorical_crossentropy\", \n",
    "        metrics=[\"accuracy\"]\n",
    "    )\n",
    "\n",
    "    history = model.fit(X_train_new, \n",
    "        y_train_new, \n",
    "        epochs = 100, \n",
    "        verbose = 0,\n",
    "        batch_size = 32, \n",
    "        callbacks = [earlyStop],\n",
    "        validation_split = 0.2)\n",
    "    print('When the learning rate is', lr)\n",
    "    _, trainr2 = model.evaluate(X_train_new, y_train_new)\n",
    "#     print(\"The training accuracy is\", \n",
    "#           trainr2)\n",
    "    _, testr2 = model.evaluate(X_test_new, y_test_new)\n",
    "#     print(\"The testing accuracy is\", \n",
    "#           testr2)\n",
    "    print('-------------------------------------------------------------------')"
   ]
  },
  {
   "cell_type": "code",
   "execution_count": null,
   "metadata": {},
   "outputs": [],
   "source": []
  }
 ],
 "metadata": {
  "hide_input": false,
  "kernelspec": {
   "display_name": "Python 3",
   "language": "python",
   "name": "python3"
  },
  "language_info": {
   "codemirror_mode": {
    "name": "ipython",
    "version": 3
   },
   "file_extension": ".py",
   "mimetype": "text/x-python",
   "name": "python",
   "nbconvert_exporter": "python",
   "pygments_lexer": "ipython3",
   "version": "3.8.8"
  }
 },
 "nbformat": 4,
 "nbformat_minor": 4
}
